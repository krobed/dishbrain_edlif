{
 "cells": [
  {
   "cell_type": "markdown",
   "id": "332cd90c",
   "metadata": {},
   "source": [
    "# EDLIF model\n",
    "\n",
    "Jaras I, Harada T, Orchard ME, Maldonado PE, Vergara RC. Extending the integrate-and-fire model to account for metabolic dependencies. Eur J Neurosci. 2021 Aug;54(4):5249-5260. doi: 10.1111/ejn.15326. Epub 2021 Jul 16. PMID: 34109698."
   ]
  },
  {
   "cell_type": "code",
   "execution_count": null,
   "id": "420f57fa",
   "metadata": {},
   "outputs": [],
   "source": [
    "%matplotlib inline\n",
    "import matplotlib.pyplot as plt\n",
    "import nest\n",
    "import numpy as np\n",
    "import os\n",
    "\n",
    "from pynestml.frontend.pynestml_frontend import generate_nest_target\n",
    "\n",
    "NEST_SIMULATOR_INSTALL_LOCATION = nest.ll_api.sli_func(\"statusdict/prefix ::\")\n",
    "#NEST_SIMULATOR_INSTALL_LOCATION = \"/home/camilojd/anaconda3/envs/edrnn/lib/python3.10/site-packages/nest/\"\n",
    "#NEST_SIMULATOR_INSTALL_LOCATION"
   ]
  },
  {
   "cell_type": "code",
   "execution_count": null,
   "id": "994a61ff",
   "metadata": {
    "scrolled": false
   },
   "outputs": [],
   "source": [
    "neuron_model = [\n",
    "    \"edlif_psc_base.nestml\", \n",
    "    # \"edlif_psc_nonlineardendrite.nestml\",\n",
    "    # \"edlif_psc_supply_state.nestml\",\n",
    "    # \"edlif_psc_supply_inline.nestml\",\n",
    "    # \"edlif_psc_percent.nestml\"\n",
    "]\n",
    "neuron_id = 0\n",
    "generate_nest_target(input_path=neuron_model[neuron_id],\n",
    "                     target_path=\"/tmp/nestml-component\",\n",
    "                     logging_level=\"DEBUG\",\n",
    "                     codegen_opts={\"nest_path\": NEST_SIMULATOR_INSTALL_LOCATION})"
   ]
  },
  {
   "cell_type": "code",
   "execution_count": null,
   "id": "9b3949e9",
   "metadata": {},
   "outputs": [],
   "source": [
    "nest.Install(\"nestmlmodule\")"
   ]
  },
  {
   "cell_type": "code",
   "execution_count": null,
   "id": "36fd02f9",
   "metadata": {
    "scrolled": false
   },
   "outputs": [],
   "source": [
    "nest.set_verbosity(\"M_WARNING\")\n",
    "nest.ResetKernel()\n",
    "\n",
    "# resolution\n",
    "nest.resolution = 0.1\n",
    "resolution = nest.GetKernelStatus()[\"resolution\"]\n",
    "print(f\"resolution time: {resolution}\") \n",
    "\n",
    "neuron_model_name = neuron_model[neuron_id].split(\".\")[0]\n",
    "print(f\"Using neuron model: {neuron_model_name}\")\n",
    "\n",
    "# current generator\n",
    "gen = \"ac\" # dc o ac\n",
    "print(f\"Using {gen} current generator\")\n",
    "\n",
    "neuron = nest.Create(neuron_model_name)\n",
    "voltmeter = nest.Create(\"voltmeter\")\n",
    "\n",
    "# change neuron params\n",
    "neuron.K_ATP = 1\n",
    "\n",
    "voltmeter.set({\"record_from\": [\"V_m\", \"ATP\", \"ATP_c\", \"ATP_s\", \"E_ap_tr\", \"E_ap_c\", \"E_syn_c\"]}) #, \"E_ap_der\", \"E_ap_tr2\"]})\n",
    "nest.Connect(voltmeter, neuron)\n",
    "\n",
    "if gen == \"dc\":\n",
    "    cgs = nest.Create('dc_generator')\n",
    "    cgs.set({\"amplitude\": 1.86})\n",
    "elif gen == \"ac\":\n",
    "    cgs = nest.Create('ac_generator')\n",
    "    cgs.set({\"amplitude\": 2.2})\n",
    "    cgs.set({\"offset\": 2.2})\n",
    "    cgs.set({\"frequency\": 4})\n",
    "    \n",
    "nest.Connect(cgs, neuron)\n",
    "\n",
    "sr = nest.Create(\"spike_recorder\")\n",
    "nest.Connect(neuron, sr)\n",
    "\n",
    "nest.Simulate(1*500.)\n",
    "\n",
    "# precision\n",
    "error = nest.GetStatus(neuron, \"gsl_error_tol\")\n",
    "print(f\"absolute error of integration: {error}\")\n",
    "\n",
    "spike_times = nest.GetStatus(sr, keys='events')[0]['times']\n",
    "\n",
    "fontsize = 15\n",
    "fig, ax = plt.subplots(nrows=6, figsize=(15,15))\n",
    "ax[0].plot(voltmeter.get(\"events\")[\"times\"], voltmeter.get(\"events\")[\"V_m\"])\n",
    "ax[1].plot(voltmeter.get(\"events\")[\"times\"], voltmeter.get(\"events\")[\"ATP\"])\n",
    "ax[1].axhline(y=neuron.get(\"ATP_h\"), c=\"gray\", ls=\"--\")\n",
    "ax[2].plot(voltmeter.get(\"events\")[\"times\"], voltmeter.get(\"events\")[\"ATP_c\"], c=\"r\", marker ='.')\n",
    "ax[2].axhline(y=neuron.get(\"ATP_basal\"), c=\"gray\", ls=\"--\")\n",
    "ax[3].plot(voltmeter.get(\"events\")[\"times\"], voltmeter.get(\"events\")[\"ATP_s\"], c=\"g\")\n",
    "ax[4].plot(voltmeter.get(\"events\")[\"times\"], voltmeter.get(\"events\")[\"E_ap_tr\"], c=\"b\", label=\"AP tr\")\n",
    "ax[4].plot(voltmeter.get(\"events\")[\"times\"], voltmeter.get(\"events\")[\"E_ap_c\"], c=\"r\", label=\"AP c\")\n",
    "#ax[5].plot(voltmeter.get(\"events\")[\"times\"], voltmeter.get(\"events\")[\"E_ap_tr2\"], c=\"b\")\n",
    "#ax[5].plot(voltmeter.get(\"events\")[\"times\"], voltmeter.get(\"events\")[\"E_ap_der\"], c=\"r\")\n",
    "ax[5].plot(voltmeter.get(\"events\")[\"times\"], voltmeter.get(\"events\")[\"E_syn_c\"], c=\"r\")\n",
    "ax[0].scatter(spike_times, -50 * np.ones_like(spike_times), marker=\"d\", c=\"orange\", alpha=.8, zorder=99)\n",
    "for _ax in ax:\n",
    "    _ax.grid(True)\n",
    "ax[0].set_ylabel(\"v [mV]\", fontsize=fontsize)\n",
    "ax[1].set_ylabel(\"ATP\", fontsize=fontsize)\n",
    "ax[2].set_ylabel(\"ATP_c\", fontsize=fontsize)\n",
    "ax[3].set_ylabel(\"ATP_s\", fontsize=fontsize)\n",
    "ax[4].set_ylabel(\"E_ap_tr\", fontsize=fontsize)\n",
    "ax[4].set_ylabel(\"E_ap_c\", fontsize=fontsize)\n",
    "ax[5].set_ylabel(\"E_syn_c\", fontsize=fontsize)\n",
    "ax[-1].set_xlabel(\"Time [ms]\", fontsize=fontsize)\n",
    "ax[4].legend()\n",
    "fig.show()"
   ]
  },
  {
   "cell_type": "code",
   "execution_count": null,
   "id": "ebf299ba",
   "metadata": {},
   "outputs": [],
   "source": [
    "#nest.kernel_status"
   ]
  },
  {
   "cell_type": "code",
   "execution_count": null,
   "id": "96a908b3",
   "metadata": {},
   "outputs": [],
   "source": []
  }
 ],
 "metadata": {
  "kernelspec": {
   "display_name": "Python 3 (ipykernel)",
   "language": "python",
   "name": "python3"
  },
  "language_info": {
   "codemirror_mode": {
    "name": "ipython",
    "version": 3
   },
   "file_extension": ".py",
   "mimetype": "text/x-python",
   "name": "python",
   "nbconvert_exporter": "python",
   "pygments_lexer": "ipython3",
   "version": "3.11.7"
  }
 },
 "nbformat": 4,
 "nbformat_minor": 5
}
