{
 "cells": [
  {
   "cell_type": "code",
   "execution_count": 1,
   "metadata": {},
   "outputs": [
    {
     "name": "stderr",
     "output_type": "stream",
     "text": [
      "/home/winkrobed/miniconda3/envs/nest_33_ehp/lib/python3.10/site-packages/nest/ll_api.py:42: UserWarning: A NumPy version >=1.23.5 and <2.3.0 is required for this version of SciPy (detected version 1.23.0)\n",
      "  import scipy\n"
     ]
    },
    {
     "name": "stdout",
     "output_type": "stream",
     "text": [
      "\n",
      "              -- N E S T --\n",
      "  Copyright (C) 2004 The NEST Initiative\n",
      "\n",
      " Version: 3.3\n",
      " Built: Sep 12 2022 04:40:40\n",
      "\n",
      " This program is provided AS IS and comes with\n",
      " NO WARRANTY. See the file LICENSE for details.\n",
      "\n",
      " Problems or suggestions?\n",
      "   Visit https://www.nest-simulator.org\n",
      "\n",
      " Type 'nest.help()' to find out more about NEST.\n",
      "\n"
     ]
    }
   ],
   "source": [
    "import numpy as np\n",
    "import nest "
   ]
  },
  {
   "cell_type": "code",
   "execution_count": 2,
   "metadata": {},
   "outputs": [
    {
     "name": "stdout",
     "output_type": "stream",
     "text": [
      "\n",
      "May 24 13:47:13 Install [Info]: \n",
      "    loaded module edlif_psc_alpha_0_module\n"
     ]
    }
   ],
   "source": [
    "module_name = \"edlif_psc_alpha_0_module\"\n",
    "nest.Install(module_name)\n",
    "\n",
    "neuron_model_name = \"edlif_psc_alpha_percent0_nestml__with_ed_stdp0_nestml\"\n",
    "synapse_model_name = \"ed_stdp0_nestml__with_edlif_psc_alpha_percent0_nestml\""
   ]
  },
  {
   "cell_type": "code",
   "execution_count": 3,
   "metadata": {},
   "outputs": [],
   "source": [
    "verbose = True"
   ]
  },
  {
   "cell_type": "code",
   "execution_count": 4,
   "metadata": {},
   "outputs": [],
   "source": [
    "init_w = 1\n",
    "resolution = 1\n",
    "delay = 1.\n",
    "\n",
    "fix_atp = 0  # 1 or 0\n",
    "atp = 100\n",
    "\n",
    "neuron_parameters = {\n",
    "    \"ATP\": atp if fix_atp == 1 else 100, \n",
    "    \"fix_atp\": fix_atp\n",
    "}\n",
    "\n",
    "lmbda = 1E-6\n",
    "eta = 5\n",
    "\n",
    "synapse_parameters={\n",
    "    \"alpha\": 0.5,\n",
    "    #\"lambda\": 0.005,\n",
    "    \"mu_plus\": 0,\n",
    "    \"mu_minus\": 0,\n",
    "    \"eta\": eta\n",
    "}\n",
    "\n",
    "sim_time = 5.  # [ms]\n",
    "total_time = 1000\n",
    "epochs = total_time//sim_time\n",
    "pre_spike_time = 100. #sim_time / 2  # [ms]\n",
    "post_spike_time = 200. #sim_time / 2  # [ms]"
   ]
  },
  {
   "cell_type": "code",
   "execution_count": 5,
   "metadata": {},
   "outputs": [
    {
     "name": "stdout",
     "output_type": "stream",
     "text": [
      "initial weight: 1\n",
      "setting param: ATP -> 100\n",
      "setting param: fix_atp -> 0\n",
      "prespike time\n",
      "[101. 991.]\n",
      "prespike senders\n",
      "[4 4]\n",
      "postspike time\n",
      "[ 17.  57. 107. 157. 207.]\n",
      "postspike senders\n",
      "[5 5 5 5 5]\n",
      "initial weight\n",
      "1.0\n",
      "updated weight\n",
      "1.000070115627295\n"
     ]
    }
   ],
   "source": [
    "nest.set_verbosity(\"M_WARNING\")\n",
    "#nest.set_verbosity(\"M_ALL\")\n",
    "\n",
    "if verbose:\n",
    "    print(f'initial weight: {init_w}')\n",
    "\n",
    "nest.ResetKernel()\n",
    "nest.SetKernelStatus({'resolution': resolution})\n",
    "\n",
    "wr = nest.Create('weight_recorder')\n",
    "nest.CopyModel(\n",
    "    synapse_model_name, \n",
    "    \"stdp_nestml_rec\",\n",
    "    {\n",
    "        \"weight_recorder\": wr[0],\n",
    "        \"w\": init_w,\n",
    "        \"delay\": delay,\n",
    "        \"d\": delay,\n",
    "        \"receptor_type\": 0\n",
    "    })\n",
    "\n",
    "# create spike_generators with these times\n",
    "pre_sg = nest.Create(\n",
    "    \"spike_generator\",\n",
    "    params={\n",
    "        \"spike_times\": [pre_spike_time, total_time - 10.]})\n",
    "post_sg = nest.Create(\n",
    "    \"spike_generator\",\n",
    "    params={\n",
    "        \"spike_times\": [10, 50, 100, 150, 200],\n",
    "        'allow_offgrid_times': True})\n",
    "\n",
    "# create parrot neurons and connect spike_generators\n",
    "pre_neuron = nest.Create(\"parrot_neuron\")\n",
    "post_neuron = nest.Create(neuron_model_name)\n",
    "if neuron_parameters is not None:\n",
    "    for param, param_value in neuron_parameters.items():\n",
    "        if verbose:\n",
    "            print(f'setting param: {param} -> {param_value}')\n",
    "        post_neuron.set({param: param_value})\n",
    "\n",
    "spikedet_pre = nest.Create(\"spike_recorder\")\n",
    "spikedet_post = nest.Create(\"spike_recorder\")\n",
    "##mm = nest.Create(\"multimeter\", params={\"record_from\" : [\"V_m\"]})\n",
    "\n",
    "nest.Connect(\n",
    "    pre_sg, pre_neuron, \n",
    "    \"one_to_one\", \n",
    "    )\n",
    "nest.Connect(\n",
    "    post_sg, post_neuron, \n",
    "    \"one_to_one\", \n",
    "    syn_spec={\"weight\": 1209.}) #1599.\n",
    "nest.Connect(\n",
    "    pre_neuron, post_neuron, \n",
    "    \"all_to_all\", \n",
    "    syn_spec={'synapse_model': 'stdp_nestml_rec'})\n",
    "##nest.Connect(mm, post_neuron)\n",
    "\n",
    "nest.Connect(pre_neuron, spikedet_pre)\n",
    "nest.Connect(post_neuron, spikedet_post)\n",
    "\n",
    "# get STDP synapse and weight before protocol\n",
    "syn = nest.GetConnections(\n",
    "    source=pre_neuron, \n",
    "    synapse_model=\"stdp_nestml_rec\")\n",
    "if synapse_parameters is None:\n",
    "    synapse_parameters = {}\n",
    "synapse_parameters.update({\"lambda\": lmbda})\n",
    "synapse_parameters.update({\"eta\": eta})\n",
    "nest.SetStatus(syn, synapse_parameters)\n",
    "\n",
    "# Initial weight\n",
    "initial_weight = nest.GetStatus(syn)[0][\"w\"]\n",
    "np.testing.assert_allclose(initial_weight, init_w)\n",
    "\n",
    "# Simulate\n",
    "for i in range(int(epochs)):\n",
    "    nest.Simulate(sim_time)\n",
    "\n",
    "# Updated weight\n",
    "updated_weight = nest.GetStatus(syn)[0][\"w\"]\n",
    "\n",
    "# Get spike times\n",
    "actual_t_pre_sp = nest.GetStatus(spikedet_pre)[0][\"events\"][\"times\"][0]\n",
    "actual_t_post_sp = nest.GetStatus(spikedet_post)[0][\"events\"][\"times\"][0]\n",
    "\n",
    "# Calculate dt and dw\n",
    "dt = actual_t_post_sp - actual_t_pre_sp\n",
    "dw = (updated_weight - initial_weight) / lmbda\n",
    "\n",
    "if verbose:\n",
    "    print(\"prespike time\")\n",
    "    print(nest.GetStatus(spikedet_pre)[0][\"events\"][\"times\"])\n",
    "    print(\"prespike senders\")\n",
    "    print(nest.GetStatus(spikedet_pre)[0][\"events\"][\"senders\"])\n",
    "    print(\"postspike time\")\n",
    "    print(nest.GetStatus(spikedet_post)[0][\"events\"][\"times\"])\n",
    "    print(\"postspike senders\")\n",
    "    print(nest.GetStatus(spikedet_post)[0][\"events\"][\"senders\"])\n",
    "    print(\"initial weight\")\n",
    "    print(initial_weight)\n",
    "    print(\"updated weight\")\n",
    "    print(updated_weight)"
   ]
  },
  {
   "cell_type": "code",
   "execution_count": null,
   "metadata": {},
   "outputs": [],
   "source": []
  },
  {
   "cell_type": "code",
   "execution_count": null,
   "metadata": {},
   "outputs": [],
   "source": []
  },
  {
   "cell_type": "code",
   "execution_count": null,
   "metadata": {},
   "outputs": [],
   "source": []
  },
  {
   "cell_type": "code",
   "execution_count": null,
   "metadata": {},
   "outputs": [],
   "source": []
  }
 ],
 "metadata": {
  "kernelspec": {
   "display_name": "nest_33_ehp",
   "language": "python",
   "name": "python3"
  },
  "language_info": {
   "codemirror_mode": {
    "name": "ipython",
    "version": 3
   },
   "file_extension": ".py",
   "mimetype": "text/x-python",
   "name": "python",
   "nbconvert_exporter": "python",
   "pygments_lexer": "ipython3",
   "version": "3.10.14"
  }
 },
 "nbformat": 4,
 "nbformat_minor": 2
}
